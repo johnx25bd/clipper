{
 "cells": [
  {
   "cell_type": "code",
   "execution_count": 1,
   "metadata": {},
   "outputs": [],
   "source": [
    "from bs4 import BeautifulSoup as bs\n",
    "import requests"
   ]
  },
  {
   "cell_type": "code",
   "execution_count": 3,
   "metadata": {},
   "outputs": [],
   "source": [
    "teams = ['dare-to-lead', \n",
    "         'hotelplannercom',\n",
    "         'liverpool-2018', \n",
    "         'garmin', \n",
    "         'visit-seattle', \n",
    "         'qingdao', \n",
    "         'great-britain', \n",
    "         'nasdaq',\n",
    "         'unicef', \n",
    "         'sanya-serenity-coast', \n",
    "         'psp-logistics', \n",
    "         'greenings'\n",
    "        \n",
    "        ]"
   ]
  },
  {
   "cell_type": "code",
   "execution_count": 9,
   "metadata": {},
   "outputs": [
    {
     "name": "stdout",
     "output_type": "stream",
     "text": [
      "{'src': 'https://www.clipperroundtheworld.com/uploads/slir/w1500-h560-q100-c1500x560/Dale_Smyth_1500x606_01.jpg', 'alt': 'Dale Smyth'}\n",
      "None\n"
     ]
    }
   ],
   "source": [
    "def fetchSkipperPhoto (url):\n",
    "    response = requests.get(url)\n",
    "    content = response.content\n",
    "    soup = bs(content)\n",
    "    print(soup.find('div', {\"id\" : \"slideshow\"}).find('img').attrs)\n",
    "    \n",
    "\n",
    "print(fetchSkipperPhoto ('https://www.clipperroundtheworld.com/team/dare-to-lead/skipper'))\n"
   ]
  },
  {
   "cell_type": "code",
   "execution_count": null,
   "metadata": {},
   "outputs": [],
   "source": [
    "for team in teams:\n",
    "    url = 'https://www.clipperroundtheworld.com/team/'+ team + '/skipper'\n",
    "    "
   ]
  }
 ],
 "metadata": {
  "kernelspec": {
   "display_name": "Python 3",
   "language": "python",
   "name": "python3"
  },
  "language_info": {
   "codemirror_mode": {
    "name": "ipython",
    "version": 3
   },
   "file_extension": ".py",
   "mimetype": "text/x-python",
   "name": "python",
   "nbconvert_exporter": "python",
   "pygments_lexer": "ipython3",
   "version": "3.6.8"
  }
 },
 "nbformat": 4,
 "nbformat_minor": 2
}
