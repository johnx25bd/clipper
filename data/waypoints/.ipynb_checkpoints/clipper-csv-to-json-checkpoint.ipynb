{
 "cells": [
  {
   "cell_type": "code",
   "execution_count": 75,
   "metadata": {},
   "outputs": [],
   "source": [
    "import pandas as pd\n",
    "import datetime\n",
    "import time\n",
    "import pprint as pp\n",
    "import json"
   ]
  },
  {
   "cell_type": "code",
   "execution_count": 2,
   "metadata": {},
   "outputs": [],
   "source": [
    "df = pd.read_csv('./clipper-clean.csv')"
   ]
  },
  {
   "cell_type": "code",
   "execution_count": 3,
   "metadata": {},
   "outputs": [],
   "source": [
    "df['datetime'] = pd.to_datetime(df['datetime'])"
   ]
  },
  {
   "cell_type": "code",
   "execution_count": 72,
   "metadata": {},
   "outputs": [],
   "source": [
    "df = df.sort_values(by=['datetime', 'position']).round(5)"
   ]
  },
  {
   "cell_type": "code",
   "execution_count": 77,
   "metadata": {},
   "outputs": [],
   "source": [
    "races = []\n",
    "for race in df['race'].unique():\n",
    "    \n",
    "    df_tmp = df[df['race'] == race]\n",
    "    race_dict = {\n",
    "        \"race\": race,\n",
    "        \"start_date\": time.mktime(df_tmp['datetime'].min().timetuple()),\n",
    "        \"end_date\": time.mktime(df_tmp['datetime'].max().timetuple()),\n",
    "        \"positions\": []\n",
    "    }\n",
    "    \n",
    "    positions = race_dict['positions']\n",
    "    \n",
    "    for i, dt in enumerate(df_tmp['datetime'].unique()):\n",
    "        rows = df_tmp[df_tmp['datetime'] == dt]\n",
    "\n",
    "        lon_sum = rows['lon'].sum()\n",
    "        lat_sum = rows['lat'].sum()\n",
    "        num_ships = len(rows)\n",
    "        centroid = [lon_sum / num_ships, lat_sum / num_ships]\n",
    "        bbox = [[rows['lon'].min(), rows['lat'].min()], \\\n",
    "                [rows['lon'].max(), rows['lat'].max()]]\n",
    "\n",
    "        timestamp = time.mktime(rows.iloc[0,]['datetime'].timetuple())\n",
    "\n",
    "        positions_at_time = []\n",
    "\n",
    "        for ship in rows.iterrows():\n",
    "            d = ship[1]\n",
    "            team = d['team'].lower().replace(' ', '-')\n",
    "            position = d['position']\n",
    "            coords = [d['lon'], d['lat']]\n",
    "            lon_sum += d['lon']\n",
    "            lat_sum += d['lat']\n",
    "            dtf = d['dtf']\n",
    "            dist_mg = d['dist_mg']\n",
    "            status = d['status']\n",
    "\n",
    "            ship_data = {\n",
    "                \"team\": team,\n",
    "                \"position\": position,\n",
    "                \"coords\": coords,\n",
    "                \"dtf\": dtf, \n",
    "                \"dist_mg\": dist_mg,\n",
    "                \"status\": status\n",
    "\n",
    "            }\n",
    "            positions_at_time.append(ship_data)\n",
    "\n",
    "\n",
    "        fleet_snapshot = {\n",
    "            \"time\": timestamp,\n",
    "            \"fleet_bbox\": bbox, \n",
    "            \"fleet_centroid\": centroid,\n",
    "            \"ship_data\": positions_at_time\n",
    "        }\n",
    "\n",
    "        positions.append(fleet_snapshot)\n",
    "\n",
    "    \n",
    "    "
   ]
  },
  {
   "cell_type": "code",
   "execution_count": 80,
   "metadata": {},
   "outputs": [],
   "source": [
    "# pp.pprint(race_dict)\n",
    "with open('./clipper-clean.json', 'w') as out:\n",
    "    json.dump(race_dict, out)"
   ]
  },
  {
   "cell_type": "code",
   "execution_count": 79,
   "metadata": {},
   "outputs": [],
   "source": []
  },
  {
   "cell_type": "code",
   "execution_count": null,
   "metadata": {},
   "outputs": [],
   "source": []
  }
 ],
 "metadata": {
  "kernelspec": {
   "display_name": "Python 3",
   "language": "python",
   "name": "python3"
  },
  "language_info": {
   "codemirror_mode": {
    "name": "ipython",
    "version": 3
   },
   "file_extension": ".py",
   "mimetype": "text/x-python",
   "name": "python",
   "nbconvert_exporter": "python",
   "pygments_lexer": "ipython3",
   "version": "3.6.8"
  }
 },
 "nbformat": 4,
 "nbformat_minor": 2
}
