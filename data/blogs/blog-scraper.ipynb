{
 "cells": [
  {
   "cell_type": "code",
   "execution_count": 5,
   "metadata": {},
   "outputs": [],
   "source": [
    "from selenium import webdriver\n",
    "import time"
   ]
  },
  {
   "cell_type": "code",
   "execution_count": 6,
   "metadata": {},
   "outputs": [],
   "source": [
    "ffdriver = webdriver.Firefox()"
   ]
  },
  {
   "cell_type": "code",
   "execution_count": 7,
   "metadata": {},
   "outputs": [],
   "source": [
    "teams = ['dare-to-lead', \n",
    "         'hotelplannercom',\n",
    "         'liverpool-2018', \n",
    "         'garmin', \n",
    "         'visit-seattle', \n",
    "         'qingdao', \n",
    "         'great-britain', \n",
    "         'nasdaq',\n",
    "         'unicef', \n",
    "         'sanya-serenity-coast', \n",
    "         'psp-logistics', \n",
    "         'greenings'\n",
    "        \n",
    "        ]"
   ]
  },
  {
   "cell_type": "code",
   "execution_count": 8,
   "metadata": {},
   "outputs": [],
   "source": [
    "def getBlogUrls(team, driver, writer='s'):\n",
    "    if writer == 'c':\n",
    "        page = 'https://www.clipperroundtheworld.com/team/' + team + '/crew-diaries'\n",
    "    else:\n",
    "        page = 'https://www.clipperroundtheworld.com/team/' + team + '/skipper-reports'\n",
    "    \n",
    "    driver.get(page)\n",
    "    time.sleep(5)\n",
    "\n",
    "    # Load all reports onto page - ajax - this might not be my code, not sure if I found it online ... \n",
    "    end = False\n",
    "    while not end:\n",
    "        load = driver.find_element_by_id('loadmore')\n",
    "        driver.execute_script(\"window.scrollTo(0, document.body.scrollHeight);\")\n",
    "        try:\n",
    "            load.click()\n",
    "        except:\n",
    "            end = True\n",
    "        time.sleep(1)\n",
    "\n",
    "    # Select all elements containing URLs to blog posts\n",
    "    urls = []\n",
    "    reports = driver.find_elements_by_class_name('skipperreportblock')\n",
    "    for r in reports:\n",
    "        urls.append(r.get_attribute('href'))\n",
    "    return urls"
   ]
  },
  {
   "cell_type": "code",
   "execution_count": 9,
   "metadata": {},
   "outputs": [
    {
     "name": "stdout",
     "output_type": "stream",
     "text": [
      "dare-to-lead\n",
      "hotelplannercom\n",
      "liverpool-2018\n",
      "garmin\n",
      "visit-seattle\n",
      "qingdao\n",
      "great-britain\n",
      "nasdaq\n",
      "unicef\n",
      "sanya-serenity-coast\n",
      "psp-logistics\n",
      "greenings\n"
     ]
    }
   ],
   "source": [
    "masterUrls = {}\n",
    "for team in teams:\n",
    "    print(team)\n",
    "    skipperReports = getBlogUrls(team, ffdriver)\n",
    "    crewReports = getBlogUrls(team, ffdriver, 'c')\n",
    "    masterUrls[team.replace('-', '')] = {'crew': crewReports}\n",
    "    masterUrls[team.replace('-', '')]['skipper'] = skipperReports"
   ]
  },
  {
   "cell_type": "code",
   "execution_count": 11,
   "metadata": {},
   "outputs": [],
   "source": [
    "import json\n",
    "with open('blog-urls.json', 'w') as jsonfile:\n",
    "    json.dump(masterUrls, jsonfile)"
   ]
  },
  {
   "cell_type": "code",
   "execution_count": null,
   "metadata": {},
   "outputs": [],
   "source": []
  },
  {
   "cell_type": "code",
   "execution_count": null,
   "metadata": {},
   "outputs": [],
   "source": []
  }
 ],
 "metadata": {
  "kernelspec": {
   "display_name": "Python 3",
   "language": "python",
   "name": "python3"
  },
  "language_info": {
   "codemirror_mode": {
    "name": "ipython",
    "version": 3
   },
   "file_extension": ".py",
   "mimetype": "text/x-python",
   "name": "python",
   "nbconvert_exporter": "python",
   "pygments_lexer": "ipython3",
   "version": "3.6.8"
  }
 },
 "nbformat": 4,
 "nbformat_minor": 2
}
