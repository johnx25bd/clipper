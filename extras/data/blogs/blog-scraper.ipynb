{
 "cells": [
  {
   "cell_type": "code",
   "execution_count": 12,
   "metadata": {},
   "outputs": [],
   "source": [
    "from selenium import webdriver\n",
    "import time"
   ]
  },
  {
   "cell_type": "code",
   "execution_count": 13,
   "metadata": {},
   "outputs": [],
   "source": [
    "ffdriver = webdriver.Firefox()"
   ]
  },
  {
   "cell_type": "code",
   "execution_count": 14,
   "metadata": {},
   "outputs": [],
   "source": [
    "teams = ['dare-to-lead', \n",
    "         'hotelplannercom',\n",
    "         'liverpool-2018', \n",
    "         'garmin', \n",
    "         'visit-seattle', \n",
    "         'qingdao', \n",
    "         'great-britain', \n",
    "         'nasdaq',\n",
    "         'unicef', \n",
    "         'sanya-serenity-coast', \n",
    "         'psp-logistics', \n",
    "         'greenings'\n",
    "        \n",
    "        ]"
   ]
  },
  {
   "cell_type": "code",
   "execution_count": 15,
   "metadata": {},
   "outputs": [],
   "source": [
    "def getBlogUrls(team, driver, writer='s'):\n",
    "    if writer == 'c':\n",
    "        page = 'https://www.clipperroundtheworld.com/team/' + team + '/crew-diaries'\n",
    "    else:\n",
    "        page = 'https://www.clipperroundtheworld.com/team/' + team + '/skipper-reports'\n",
    "    \n",
    "    driver.get(page)\n",
    "    time.sleep(5)\n",
    "\n",
    "    # Load all reports onto page - ajax - this might not be my code, not sure if I found it online ... \n",
    "    end = False\n",
    "    while not end:\n",
    "        load = driver.find_element_by_id('loadmore')\n",
    "        driver.execute_script(\"window.scrollTo(0, document.body.scrollHeight);\")\n",
    "        try:\n",
    "            load.click()\n",
    "        except:\n",
    "            end = True\n",
    "        time.sleep(1)\n",
    "\n",
    "    # Select all elements containing URLs to blog posts\n",
    "    urls = []\n",
    "    reports = driver.find_elements_by_class_name('skipperreportblock')\n",
    "    for r in reports:\n",
    "        urls.append(r.get_attribute('href'))\n",
    "    return urls"
   ]
  },
  {
   "cell_type": "code",
   "execution_count": 9,
   "metadata": {},
   "outputs": [
    {
     "name": "stdout",
     "output_type": "stream",
     "text": [
      "dare-to-lead\n",
      "hotelplannercom\n",
      "liverpool-2018\n",
      "garmin\n",
      "visit-seattle\n",
      "qingdao\n",
      "great-britain\n",
      "nasdaq\n",
      "unicef\n",
      "sanya-serenity-coast\n",
      "psp-logistics\n",
      "greenings\n"
     ]
    }
   ],
   "source": [
    "masterUrls = {}\n",
    "for team in teams:\n",
    "    print(team)\n",
    "    skipperReports = getBlogUrls(team, ffdriver)\n",
    "    crewReports = getBlogUrls(team, ffdriver, 'c')\n",
    "    masterUrls[team.replace('-', '')] = {'crew': crewReports}\n",
    "    masterUrls[team.replace('-', '')]['skipper'] = skipperReports"
   ]
  },
  {
   "cell_type": "code",
   "execution_count": 11,
   "metadata": {},
   "outputs": [],
   "source": [
    "import json\n",
    "with open('blog-urls.json', 'w') as jsonfile:\n",
    "    json.dump(masterUrls, jsonfile)"
   ]
  },
  {
   "cell_type": "code",
   "execution_count": 16,
   "metadata": {},
   "outputs": [
    {
     "name": "stdout",
     "output_type": "stream",
     "text": [
      "['https://www.clipperroundtheworld.com/skipper-report/visit-seattle/race13-day6-team26', 'https://www.clipperroundtheworld.com/skipper-report/visit-seattle/race13-day5-team26', 'https://www.clipperroundtheworld.com/skipper-report/visit-seattle/race13-day4-team26', 'https://www.clipperroundtheworld.com/skipper-report/visit-seattle/race13-day3-team26', 'https://www.clipperroundtheworld.com/skipper-report/visit-seattle/race13-day2-team26', 'https://www.clipperroundtheworld.com/skipper-report/visit-seattle/race13-day1-team26', 'https://www.clipperroundtheworld.com/skipper-report/visit-seattle/race12-day12-team26', 'https://www.clipperroundtheworld.com/skipper-report/visit-seattle/race12-day11-team26', 'https://www.clipperroundtheworld.com/skipper-report/visit-seattle/race10-day10-team26', 'https://www.clipperroundtheworld.com/skipper-report/visit-seattle/race12-day11-team26', 'https://www.clipperroundtheworld.com/skipper-report/visit-seattle/race12-day9-team26', 'https://www.clipperroundtheworld.com/skipper-report/visit-seattle/race12-day8-team26', 'https://www.clipperroundtheworld.com/skipper-report/visit-seattle/race12-day7-team26', 'https://www.clipperroundtheworld.com/skipper-report/visit-seattle/race12-day6-team26', 'https://www.clipperroundtheworld.com/skipper-report/visit-seattle/race12-day5-team26', 'https://www.clipperroundtheworld.com/skipper-report/visit-seattle/race12-day5-team26', 'https://www.clipperroundtheworld.com/skipper-report/visit-seattle/race12-day4-team26', 'https://www.clipperroundtheworld.com/skipper-report/visit-seattle/race12-day3-team26', 'https://www.clipperroundtheworld.com/skipper-report/visit-seattle/race12-day2-team26', 'https://www.clipperroundtheworld.com/skipper-report/visit-seattle/race12-day1-team26', 'https://www.clipperroundtheworld.com/skipper-report/visit-seattle/race12-day0-team26', 'https://www.clipperroundtheworld.com/skipper-report/visit-seattle/race11-day11-team26', 'https://www.clipperroundtheworld.com/skipper-report/visit-seattle/race11-day10-team26', 'https://www.clipperroundtheworld.com/skipper-report/visit-seattle/race11-day9-team26', 'https://www.clipperroundtheworld.com/skipper-report/visit-seattle/race11-day8-team26', 'https://www.clipperroundtheworld.com/skipper-report/visit-seattle/race11-day7-team26', 'https://www.clipperroundtheworld.com/skipper-report/visit-seattle/race11-day6-team26', 'https://www.clipperroundtheworld.com/skipper-report/visit-seattle/race11-day5-team26', 'https://www.clipperroundtheworld.com/skipper-report/visit-seattle/race11-day4-team26', 'https://www.clipperroundtheworld.com/skipper-report/visit-seattle/race11-day3-team26', 'https://www.clipperroundtheworld.com/skipper-report/visit-seattle/race11-day2-team26', 'https://www.clipperroundtheworld.com/skipper-report/visit-seattle/race11-day1-team26', 'https://www.clipperroundtheworld.com/skipper-report/visit-seattle/race10-day18-team26', 'https://www.clipperroundtheworld.com/skipper-report/visit-seattle/race10-day17-team26', 'https://www.clipperroundtheworld.com/skipper-report/visit-seattle/race10-day16-team26', 'https://www.clipperroundtheworld.com/skipper-report/visit-seattle/race10-day15-team26', 'https://www.clipperroundtheworld.com/skipper-report/visit-seattle/race10-day14-team26', 'https://www.clipperroundtheworld.com/skipper-report/visit-seattle/race10-day13-team26', 'https://www.clipperroundtheworld.com/skipper-report/visit-seattle/race10-day12-team26', 'https://www.clipperroundtheworld.com/skipper-report/visit-seattle/race10-day11-team26', 'https://www.clipperroundtheworld.com/skipper-report/visit-seattle/race10-day10-team26', 'https://www.clipperroundtheworld.com/skipper-report/visit-seattle/race10-day9-team26', 'https://www.clipperroundtheworld.com/skipper-report/visit-seattle/race10-day8-team26', 'https://www.clipperroundtheworld.com/skipper-report/visit-seattle/race10-day7-team26', 'https://www.clipperroundtheworld.com/skipper-report/visit-seattle/race10-day6-team26', 'https://www.clipperroundtheworld.com/skipper-report/visit-seattle/race10-day5-team26', 'https://www.clipperroundtheworld.com/skipper-report/visit-seattle/race10-day4-team26', 'https://www.clipperroundtheworld.com/skipper-report/visit-seattle/race10-day3-team26', 'https://www.clipperroundtheworld.com/skipper-report/visit-seattle/race10-day2-team26', 'https://www.clipperroundtheworld.com/skipper-report/visit-seattle/race10-day1-team26', 'https://www.clipperroundtheworld.com/skipper-report/visit-seattle/race10-day0-team26', 'https://www.clipperroundtheworld.com/skipper-report/visit-seattle/race9-day28-team26', 'https://www.clipperroundtheworld.com/skipper-report/visit-seattle/race9-day27-team26', 'https://www.clipperroundtheworld.com/skipper-report/visit-seattle/race9-day26-team26', 'https://www.clipperroundtheworld.com/skipper-report/visit-seattle/race9-day25-team26', 'https://www.clipperroundtheworld.com/skipper-report/visit-seattle/race9-day24-team26', 'https://www.clipperroundtheworld.com/skipper-report/visit-seattle/race9-day23-team26', 'https://www.clipperroundtheworld.com/skipper-report/visit-seattle/race9-day22-team26', 'https://www.clipperroundtheworld.com/skipper-report/visit-seattle/race9-day21-team26', 'https://www.clipperroundtheworld.com/skipper-report/visit-seattle/race9-day20-team26', 'https://www.clipperroundtheworld.com/skipper-report/visit-seattle/race9-day19-team26', 'https://www.clipperroundtheworld.com/skipper-report/visit-seattle/race9-day18-team26', 'https://www.clipperroundtheworld.com/skipper-report/visit-seattle/race9-day17-team26', 'https://www.clipperroundtheworld.com/skipper-report/visit-seattle/race9-day16-team26', 'https://www.clipperroundtheworld.com/skipper-report/visit-seattle/race9-day15-team26', 'https://www.clipperroundtheworld.com/skipper-report/visit-seattle/race9-day14-team26', 'https://www.clipperroundtheworld.com/skipper-report/visit-seattle/race9-day13-team26', 'https://www.clipperroundtheworld.com/skipper-report/visit-seattle/race9-day12-team26', 'https://www.clipperroundtheworld.com/skipper-report/visit-seattle/race9-day11-team26', 'https://www.clipperroundtheworld.com/skipper-report/visit-seattle/race9-day10-team26', 'https://www.clipperroundtheworld.com/skipper-report/visit-seattle/race9-day9-team26', 'https://www.clipperroundtheworld.com/skipper-report/visit-seattle/race9-day8-team26', 'https://www.clipperroundtheworld.com/skipper-report/visit-seattle/race9-day7-team26', 'https://www.clipperroundtheworld.com/skipper-report/visit-seattle/race9-day6-team26', 'https://www.clipperroundtheworld.com/skipper-report/visit-seattle/race9-day5-team26', 'https://www.clipperroundtheworld.com/skipper-report/visit-seattle/race9-day4-team26', 'https://www.clipperroundtheworld.com/skipper-report/visit-seattle/race9-day3-team26', 'https://www.clipperroundtheworld.com/skipper-report/visit-seattle/race9-day2-team26', 'https://www.clipperroundtheworld.com/skipper-report/visit-seattle/race9-day1-team26', 'https://www.clipperroundtheworld.com/skipper-report/visit-seattle/race8-day10-team26', 'https://www.clipperroundtheworld.com/skipper-report/visit-seattle/race8-day9-team26', 'https://www.clipperroundtheworld.com/skipper-report/visit-seattle/race8-day8-team26', 'https://www.clipperroundtheworld.com/skipper-report/visit-seattle/race8-day7-team26', 'https://www.clipperroundtheworld.com/skipper-report/visit-seattle/race8-day6-team26', 'https://www.clipperroundtheworld.com/skipper-report/visit-seattle/race8-day5-team26', 'https://www.clipperroundtheworld.com/skipper-report/visit-seattle/race8-day4-team26', 'https://www.clipperroundtheworld.com/skipper-report/visit-seattle/race8-day3-team26', 'https://www.clipperroundtheworld.com/skipper-report/visit-seattle/race8-day2-team26', 'https://www.clipperroundtheworld.com/skipper-report/visit-seattle/race8-day1-team26', 'https://www.clipperroundtheworld.com/skipper-report/visit-seattle/race7-day23-team26', 'https://www.clipperroundtheworld.com/skipper-report/visit-seattle/race7-day22-team26', 'https://www.clipperroundtheworld.com/skipper-report/visit-seattle/race7-day21-team26', 'https://www.clipperroundtheworld.com/skipper-report/visit-seattle/race7-day20-team26', 'https://www.clipperroundtheworld.com/skipper-report/visit-seattle/race7-day19-team26', 'https://www.clipperroundtheworld.com/skipper-report/visit-seattle/race7-day18-team26', 'https://www.clipperroundtheworld.com/skipper-report/visit-seattle/race7-day17-team26', 'https://www.clipperroundtheworld.com/skipper-report/visit-seattle/race7-day16-team26', 'https://www.clipperroundtheworld.com/skipper-report/visit-seattle/race7-day15-team26', 'https://www.clipperroundtheworld.com/skipper-report/visit-seattle/race7-day14-team26', 'https://www.clipperroundtheworld.com/skipper-report/visit-seattle/race7-day13-team26', 'https://www.clipperroundtheworld.com/skipper-report/visit-seattle/race7-day12-team26', 'https://www.clipperroundtheworld.com/skipper-report/visit-seattle/race7-day11-team26', 'https://www.clipperroundtheworld.com/skipper-report/visit-seattle/race7-day10-team26', 'https://www.clipperroundtheworld.com/skipper-report/visit-seattle/race7-day9-team26', 'https://www.clipperroundtheworld.com/skipper-report/visit-seattle/race7-day8-team26', 'https://www.clipperroundtheworld.com/skipper-report/visit-seattle/race7-day7-team26', 'https://www.clipperroundtheworld.com/skipper-report/visit-seattle/race7-day6-team26', 'https://www.clipperroundtheworld.com/skipper-report/visit-seattle/race7-day5-team26', 'https://www.clipperroundtheworld.com/skipper-report/visit-seattle/race7-day4-team26', 'https://www.clipperroundtheworld.com/skipper-report/visit-seattle/race7-day3-team26', 'https://www.clipperroundtheworld.com/skipper-report/visit-seattle/race7-day2-team26', 'https://www.clipperroundtheworld.com/skipper-report/visit-seattle/race7-day1-team26', 'https://www.clipperroundtheworld.com/skipper-report/visit-seattle/race7-day0-team26', 'https://www.clipperroundtheworld.com/skipper-report/visit-seattle/race6-day10-team26', 'https://www.clipperroundtheworld.com/skipper-report/visit-seattle/race6-day9-team26', 'https://www.clipperroundtheworld.com/skipper-report/visit-seattle/race6-day8-team26', 'https://www.clipperroundtheworld.com/skipper-report/visit-seattle/race6-day7-team26', 'https://www.clipperroundtheworld.com/skipper-report/visit-seattle/race6-day6-team26', 'https://www.clipperroundtheworld.com/skipper-report/visit-seattle/race6-day5-team26', 'https://www.clipperroundtheworld.com/skipper-report/visit-seattle/race6-day4-team26', 'https://www.clipperroundtheworld.com/skipper-report/visit-seattle/race6-day3-team26', 'https://www.clipperroundtheworld.com/skipper-report/visit-seattle/race6-day2-team26', 'https://www.clipperroundtheworld.com/skipper-report/visit-seattle/race6-day1-team26', 'https://www.clipperroundtheworld.com/skipper-report/visit-seattle/race6-day0-team26', 'https://www.clipperroundtheworld.com/skipper-report/visit-seattle/race5-day2-team26', 'https://www.clipperroundtheworld.com/skipper-report/visit-seattle/race5-day1-team26', 'https://www.clipperroundtheworld.com/skipper-report/visit-seattle/race4-day12-team26', 'https://www.clipperroundtheworld.com/skipper-report/visit-seattle/race4-day11-team26', 'https://www.clipperroundtheworld.com/skipper-report/visit-seattle/race4-day10-team26', 'https://www.clipperroundtheworld.com/skipper-report/visit-seattle/race4-day9-team26', 'https://www.clipperroundtheworld.com/skipper-report/visit-seattle/race4-day8-team26', 'https://www.clipperroundtheworld.com/skipper-report/visit-seattle/race4-day8-team26', 'https://www.clipperroundtheworld.com/skipper-report/visit-seattle/race4-day7-team26', 'https://www.clipperroundtheworld.com/skipper-report/visit-seattle/race4-day6-team26', 'https://www.clipperroundtheworld.com/skipper-report/visit-seattle/race4-day5-team26', 'https://www.clipperroundtheworld.com/skipper-report/visit-seattle/race4-day4-team26', 'https://www.clipperroundtheworld.com/skipper-report/visit-seattle/race4-day3-team26', 'https://www.clipperroundtheworld.com/skipper-report/visit-seattle/race4-day2-team26', 'https://www.clipperroundtheworld.com/skipper-report/visit-seattle/race4-day1-team26', 'https://www.clipperroundtheworld.com/skipper-report/visit-seattle/race3-day25-team26', 'https://www.clipperroundtheworld.com/skipper-report/visit-seattle/race3-day24-team26', 'https://www.clipperroundtheworld.com/skipper-report/visit-seattle/race3-day23-team26', 'https://www.clipperroundtheworld.com/skipper-report/visit-seattle/race3-day22-team26', 'https://www.clipperroundtheworld.com/skipper-report/visit-seattle/race3-day21-team26', 'https://www.clipperroundtheworld.com/skipper-report/visit-seattle/race3-day20-team26', 'https://www.clipperroundtheworld.com/skipper-report/visit-seattle/race3-day19-team26', 'https://www.clipperroundtheworld.com/skipper-report/visit-seattle/race3-day18-team26', 'https://www.clipperroundtheworld.com/skipper-report/visit-seattle/race3-day17-team26', 'https://www.clipperroundtheworld.com/skipper-report/visit-seattle/race3-day16-team26', 'https://www.clipperroundtheworld.com/skipper-report/visit-seattle/race3-day15-team26', 'https://www.clipperroundtheworld.com/skipper-report/visit-seattle/race3-day14-team26', 'https://www.clipperroundtheworld.com/skipper-report/visit-seattle/race3-day13-team26', 'https://www.clipperroundtheworld.com/skipper-report/visit-seattle/race3-day12-team26', 'https://www.clipperroundtheworld.com/skipper-report/visit-seattle/race3-day11-team26', 'https://www.clipperroundtheworld.com/skipper-report/visit-seattle/race3-day10-team26', 'https://www.clipperroundtheworld.com/skipper-report/visit-seattle/race3-day9-team26', 'https://www.clipperroundtheworld.com/skipper-report/visit-seattle/race3-day8-team26', 'https://www.clipperroundtheworld.com/skipper-report/visit-seattle/race3-day7-team26', 'https://www.clipperroundtheworld.com/skipper-report/visit-seattle/race3-day6-team26', 'https://www.clipperroundtheworld.com/skipper-report/visit-seattle/race3-day5-team26', 'https://www.clipperroundtheworld.com/skipper-report/visit-seattle/race3-day4-team26', 'https://www.clipperroundtheworld.com/skipper-report/visit-seattle/race3-day3-team26', 'https://www.clipperroundtheworld.com/skipper-report/visit-seattle/race3-day2-team26', 'https://www.clipperroundtheworld.com/skipper-report/visit-seattle/race3-day1-team26', 'https://www.clipperroundtheworld.com/skipper-report/visit-seattle/race3-day0-team26', 'https://www.clipperroundtheworld.com/skipper-report/visit-seattle/race2-day14-team26', 'https://www.clipperroundtheworld.com/skipper-report/visit-seattle/race2-day13-team26', 'https://www.clipperroundtheworld.com/skipper-report/visit-seattle/race2-day12-team26', 'https://www.clipperroundtheworld.com/skipper-report/visit-seattle/race2-day11-team26', 'https://www.clipperroundtheworld.com/skipper-report/visit-seattle/race2-day10-team26', 'https://www.clipperroundtheworld.com/skipper-report/visit-seattle/race2-day9-team26', 'https://www.clipperroundtheworld.com/skipper-report/visit-seattle/race2-day8-team26', 'https://www.clipperroundtheworld.com/skipper-report/visit-seattle/race2-day7-team26', 'https://www.clipperroundtheworld.com/skipper-report/visit-seattle/race2-day6-team26', 'https://www.clipperroundtheworld.com/skipper-report/visit-seattle/race2-day5-team26', 'https://www.clipperroundtheworld.com/skipper-report/visit-seattle/race2-day4-team26', 'https://www.clipperroundtheworld.com/skipper-report/visit-seattle/race2-day3-team26', 'https://www.clipperroundtheworld.com/skipper-report/visit-seattle/race2-day2-team26', 'https://www.clipperroundtheworld.com/skipper-report/visit-seattle/race2-day1-team26', 'https://www.clipperroundtheworld.com/skipper-report/visit-seattle/race2-day0-team26', 'https://www.clipperroundtheworld.com/skipper-report/visit-seattle/race1-day33-team26', 'https://www.clipperroundtheworld.com/skipper-report/visit-seattle/race1-day32-team26', 'https://www.clipperroundtheworld.com/skipper-report/visit-seattle/race1-day31-team26', 'https://www.clipperroundtheworld.com/skipper-report/visit-seattle/race1-day30-team26', 'https://www.clipperroundtheworld.com/skipper-report/visit-seattle/race1-day29-team26', 'https://www.clipperroundtheworld.com/skipper-report/visit-seattle/race1-day28-team26', 'https://www.clipperroundtheworld.com/skipper-report/visit-seattle/race1-day27-team26', 'https://www.clipperroundtheworld.com/skipper-report/visit-seattle/race1-day26-team26', 'https://www.clipperroundtheworld.com/skipper-report/visit-seattle/race1-day25-team26', 'https://www.clipperroundtheworld.com/skipper-report/visit-seattle/race1-day24-team26', 'https://www.clipperroundtheworld.com/skipper-report/visit-seattle/race1-day23-team26', 'https://www.clipperroundtheworld.com/skipper-report/visit-seattle/race1-day22-team26', 'https://www.clipperroundtheworld.com/skipper-report/visit-seattle/race1-day21-team26', 'https://www.clipperroundtheworld.com/skipper-report/visit-seattle/race1-day20-team26', 'https://www.clipperroundtheworld.com/skipper-report/visit-seattle/race1-day19-team26', 'https://www.clipperroundtheworld.com/skipper-report/visit-seattle/race1-day18-team26', 'https://www.clipperroundtheworld.com/skipper-report/visit-seattle/race1-day17-team26', 'https://www.clipperroundtheworld.com/skipper-report/visit-seattle/race1-day16-team26', 'https://www.clipperroundtheworld.com/skipper-report/visit-seattle/race1-day15-team26', 'https://www.clipperroundtheworld.com/skipper-report/visit-seattle/race1-day14-team26', 'https://www.clipperroundtheworld.com/skipper-report/visit-seattle/race1-day13-team26', 'https://www.clipperroundtheworld.com/skipper-report/visit-seattle/race1-day12-team26', 'https://www.clipperroundtheworld.com/skipper-report/visit-seattle/race1-day11-team26', 'https://www.clipperroundtheworld.com/skipper-report/visit-seattle/race1-day10-team26', 'https://www.clipperroundtheworld.com/skipper-report/visit-seattle/race1-day9-team26', 'https://www.clipperroundtheworld.com/skipper-report/visit-seattle/race1-day8-team26', 'https://www.clipperroundtheworld.com/skipper-report/visit-seattle/race1-day7-team26', 'https://www.clipperroundtheworld.com/skipper-report/visit-seattle/race1-day6-team26', 'https://www.clipperroundtheworld.com/skipper-report/visit-seattle/race1-day5-team26', 'https://www.clipperroundtheworld.com/skipper-report/visit-seattle/race1-day4-team26', 'https://www.clipperroundtheworld.com/skipper-report/visit-seattle/race1-day3-team26', 'https://www.clipperroundtheworld.com/skipper-report/visit-seattle/race1-day2-team26', 'https://www.clipperroundtheworld.com/skipper-report/visit-seattle/race1-day1-team26']\n"
     ]
    }
   ],
   "source": [
    "print(getBlogUrls('visit-seattle', ffdriver))"
   ]
  },
  {
   "cell_type": "code",
   "execution_count": null,
   "metadata": {},
   "outputs": [],
   "source": []
  }
 ],
 "metadata": {
  "kernelspec": {
   "display_name": "Python 3",
   "language": "python",
   "name": "python3"
  },
  "language_info": {
   "codemirror_mode": {
    "name": "ipython",
    "version": 3
   },
   "file_extension": ".py",
   "mimetype": "text/x-python",
   "name": "python",
   "nbconvert_exporter": "python",
   "pygments_lexer": "ipython3",
   "version": "3.6.8"
  }
 },
 "nbformat": 4,
 "nbformat_minor": 2
}
